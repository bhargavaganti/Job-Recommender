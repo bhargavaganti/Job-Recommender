{
 "cells": [
  {
   "cell_type": "code",
   "execution_count": 1,
   "metadata": {
    "collapsed": true
   },
   "outputs": [],
   "source": [
    "from bs4 import BeautifulSoup  # For HTML parsing\n",
    "import re  # Regular expressions\n",
    "from time import sleep  # To prevent overwhelming the server between connections\n",
    "import requests\n",
    "import pickle\n",
    "from pymongo import MongoClient, errors\n",
    "import numpy as np"
   ]
  },
  {
   "cell_type": "code",
   "execution_count": 2,
   "metadata": {
    "collapsed": false,
    "scrolled": true
   },
   "outputs": [
    {
     "name": "stdout",
     "output_type": "stream",
     "text": [
      "Connected successfully!!!\n"
     ]
    },
    {
     "data": {
      "text/plain": [
       "MongoClient(host=['localhost:27017'], document_class=dict, tz_aware=False, connect=True)"
      ]
     },
     "execution_count": 2,
     "metadata": {},
     "output_type": "execute_result"
    }
   ],
   "source": [
    "try:\n",
    "    client = MongoClient()\n",
    "    print (\"Connected successfully!!!\")\n",
    "except pymongo.errors.ConnectionFailure:\n",
    "    print (\"Could not connect to MongoDB: %s\" % e)\n",
    "client"
   ]
  },
  {
   "cell_type": "code",
   "execution_count": 3,
   "metadata": {
    "collapsed": false
   },
   "outputs": [],
   "source": [
    "db = client.jobs_database"
   ]
  },
  {
   "cell_type": "code",
   "execution_count": 4,
   "metadata": {
    "collapsed": false
   },
   "outputs": [],
   "source": [
    "coll = db.job_collection_all"
   ]
  },
  {
   "cell_type": "code",
   "execution_count": 5,
   "metadata": {
    "collapsed": true
   },
   "outputs": [],
   "source": [
    "# gensim\n",
    "from gensim import corpora, models, similarities, matutils\n",
    "# sklearn\n",
    "from sklearn import datasets\n",
    "from sklearn.feature_extraction.text import CountVectorizer\n",
    "from sklearn.cluster import KMeans\n",
    "# logging for gensim (set to INFO)\n",
    "import logging\n",
    "logging.basicConfig(format='%(asctime)s : %(levelname)s : %(message)s', level=logging.INFO)"
   ]
  },
  {
   "cell_type": "code",
   "execution_count": 6,
   "metadata": {
    "collapsed": false
   },
   "outputs": [
    {
     "name": "stdout",
     "output_type": "stream",
     "text": [
      "Echoing Green - Jobs: Fundraising Intern - Apply online\n"
     ]
    }
   ],
   "source": [
    "for job in coll.find():\n",
    "    print(job['title'])\n",
    "    break"
   ]
  },
  {
   "cell_type": "code",
   "execution_count": 7,
   "metadata": {
    "collapsed": false
   },
   "outputs": [],
   "source": [
    "desc = []\n",
    "for job in coll.find():\n",
    "    desc.append(job['description'])"
   ]
  },
  {
   "cell_type": "code",
   "execution_count": 1,
   "metadata": {
    "collapsed": false
   },
   "outputs": [
    {
     "ename": "NameError",
     "evalue": "name 'CountVectorizer' is not defined",
     "output_type": "error",
     "traceback": [
      "\u001b[1;31m---------------------------------------------------------------------------\u001b[0m",
      "\u001b[1;31mNameError\u001b[0m                                 Traceback (most recent call last)",
      "\u001b[1;32m<ipython-input-1-924d9af697a1>\u001b[0m in \u001b[0;36m<module>\u001b[1;34m()\u001b[0m\n\u001b[0;32m      1\u001b[0m \u001b[1;31m# Create a CountVectorizer for parsing/counting words\u001b[0m\u001b[1;33m\u001b[0m\u001b[1;33m\u001b[0m\u001b[0m\n\u001b[1;32m----> 2\u001b[1;33m count_vectorizer = CountVectorizer(analyzer='word',\n\u001b[0m\u001b[0;32m      3\u001b[0m                                   \u001b[0mngram_range\u001b[0m\u001b[1;33m=\u001b[0m\u001b[1;33m(\u001b[0m\u001b[1;36m1\u001b[0m\u001b[1;33m,\u001b[0m \u001b[1;36m8\u001b[0m\u001b[1;33m)\u001b[0m\u001b[1;33m,\u001b[0m \u001b[0mstop_words\u001b[0m\u001b[1;33m=\u001b[0m\u001b[1;34m'english'\u001b[0m\u001b[1;33m,\u001b[0m\u001b[1;33m\u001b[0m\u001b[0m\n\u001b[0;32m      4\u001b[0m                                   token_pattern='\\\\b[a-z][a-z]+\\\\b')\n\u001b[0;32m      5\u001b[0m \u001b[0mcount_vectorizer\u001b[0m\u001b[1;33m.\u001b[0m\u001b[0mfit_transform\u001b[0m\u001b[1;33m(\u001b[0m\u001b[0mdesc\u001b[0m\u001b[1;33m)\u001b[0m\u001b[1;33m\u001b[0m\u001b[0m\n",
      "\u001b[1;31mNameError\u001b[0m: name 'CountVectorizer' is not defined"
     ]
    }
   ],
   "source": [
    "# Create a CountVectorizer for parsing/counting words\n",
    "count_vectorizer = CountVectorizer(analyzer='word',\n",
    "                                  ngram_range=(1, 8), stop_words='english',\n",
    "                                  token_pattern='\\\\b[a-z][a-z]+\\\\b')\n",
    "count_vectorizer.fit_transform(desc)"
   ]
  },
  {
   "cell_type": "code",
   "execution_count": 9,
   "metadata": {
    "collapsed": false
   },
   "outputs": [
    {
     "data": {
      "text/plain": [
       "(1327288, 6641)"
      ]
     },
     "execution_count": 9,
     "metadata": {},
     "output_type": "execute_result"
    }
   ],
   "source": [
    "ng_vecs = count_vectorizer.transform(desc).transpose()\n",
    "ng_vecs.shape"
   ]
  },
  {
   "cell_type": "code",
   "execution_count": 10,
   "metadata": {
    "collapsed": true
   },
   "outputs": [],
   "source": [
    "# Convert sparse matrix of counts to a gensim corpus\n",
    "corpus = matutils.Sparse2Corpus(ng_vecs)"
   ]
  },
  {
   "cell_type": "code",
   "execution_count": 11,
   "metadata": {
    "collapsed": false
   },
   "outputs": [
    {
     "name": "stdout",
     "output_type": "stream",
     "text": [
      "('graduation instruction news events calendars personal info', 505290)\n"
     ]
    }
   ],
   "source": [
    "for item in count_vectorizer.vocabulary_.items():\n",
    "    print(item)\n",
    "    break"
   ]
  },
  {
   "cell_type": "code",
   "execution_count": 12,
   "metadata": {
    "collapsed": false
   },
   "outputs": [
    {
     "data": {
      "text/plain": [
       "6641"
      ]
     },
     "execution_count": 12,
     "metadata": {},
     "output_type": "execute_result"
    }
   ],
   "source": [
    "count = 0\n",
    "for item in corpus:\n",
    "    count += 1\n",
    "count"
   ]
  },
  {
   "cell_type": "code",
   "execution_count": 14,
   "metadata": {
    "collapsed": false
   },
   "outputs": [
    {
     "ename": "NameError",
     "evalue": "name 'count_vectorizer' is not defined",
     "output_type": "error",
     "traceback": [
      "\u001b[1;31m---------------------------------------------------------------------------\u001b[0m",
      "\u001b[1;31mNameError\u001b[0m                                 Traceback (most recent call last)",
      "\u001b[1;32m<ipython-input-14-71fdfc34be0e>\u001b[0m in \u001b[0;36m<module>\u001b[1;34m()\u001b[0m\n\u001b[1;32m----> 1\u001b[1;33m \u001b[0mid2word\u001b[0m \u001b[1;33m=\u001b[0m \u001b[0mdict\u001b[0m\u001b[1;33m(\u001b[0m\u001b[1;33m(\u001b[0m\u001b[0mv\u001b[0m\u001b[1;33m,\u001b[0m \u001b[0mk\u001b[0m\u001b[1;33m)\u001b[0m \u001b[1;32mfor\u001b[0m \u001b[0mk\u001b[0m\u001b[1;33m,\u001b[0m \u001b[0mv\u001b[0m \u001b[1;32min\u001b[0m \u001b[0mcount_vectorizer\u001b[0m\u001b[1;33m.\u001b[0m\u001b[0mvocabulary_\u001b[0m\u001b[1;33m.\u001b[0m\u001b[0mitems\u001b[0m\u001b[1;33m(\u001b[0m\u001b[1;33m)\u001b[0m\u001b[1;33m)\u001b[0m\u001b[1;33m\u001b[0m\u001b[0m\n\u001b[0m",
      "\u001b[1;31mNameError\u001b[0m: name 'count_vectorizer' is not defined"
     ]
    }
   ],
   "source": [
    "id2word = dict((v, k) for k, v in count_vectorizer.vocabulary_.items())"
   ]
  },
  {
   "cell_type": "markdown",
   "metadata": {},
   "source": [
    "## Topic modeling"
   ]
  },
  {
   "cell_type": "markdown",
   "metadata": {},
   "source": [
    "#### LDA\n",
    "At this point we can simply plow ahead in creating an LDA model. It requires our corpus of word counts, mapping of row ids to words, and the number of topics (3)."
   ]
  },
  {
   "cell_type": "code",
   "execution_count": 28,
   "metadata": {
    "collapsed": false
   },
   "outputs": [],
   "source": [
    "# Create lda model (equivalent to \"fit\" in sklearn)\n",
    "lda = models.LdaModel(corpus, id2word=id2word, num_topics=5, passes=10)"
   ]
  },
  {
   "cell_type": "code",
   "execution_count": 29,
   "metadata": {
    "collapsed": true
   },
   "outputs": [
    {
     "data": {
      "text/plain": [
       "[(0,\n",
       "  '0.009*linguist + 0.007*language + 0.007*data + 0.006*earnest + 0.006*self + 0.005*research + 0.005*job + 0.004*service + 0.004*caesars + 0.004*hart + 0.004*linguistics + 0.004*careers + 0.003*site + 0.003*career + 0.003*ntid + 0.003*sign + 0.003*st + 0.003*nmlsconsumeraccess + 0.003*nmls + 0.003*list'),\n",
       " (1,\n",
       "  '0.039*loading + 0.015*wait + 0.012*content + 0.010*page + 0.002*requirements + 0.002*resume + 0.002*navy + 0.002*experience + 0.002*aperture + 0.002*documents + 0.002*data + 0.002*youll + 0.002*usajobs + 0.002*gov + 0.002*information + 0.002*application + 0.002*scientist + 0.002*www + 0.002*experienced + 0.001*apply'),\n",
       " (2,\n",
       "  '0.011*data + 0.008*glassdoor + 0.006*job + 0.006*roche + 0.005*analysis + 0.005*memorial + 0.004*sequencing + 0.004*analytics + 0.003*machine + 0.003*healthcare + 0.003*santa + 0.003*design + 0.003*analytical + 0.003*share + 0.003*experience + 0.003*learning + 0.003*mining + 0.003*work + 0.003*search + 0.003*software'),\n",
       " (3,\n",
       "  '0.013*ihs + 0.010*michigan + 0.010*password + 0.009*splunk + 0.007*cardiovascular + 0.006*research + 0.006*job + 0.005*investigator + 0.005*university + 0.005*arbor + 0.005*ann + 0.005*temporary + 0.005*student + 0.005*background + 0.004*candidates + 0.004*transgenic + 0.004*email + 0.004*industries + 0.004*required + 0.004*accounts'),\n",
       " (4,\n",
       "  '0.014*password + 0.014*mars + 0.009*peoplesoft + 0.008*oracle + 0.007*sign + 0.005*accounts + 0.005*enter + 0.005*data + 0.005*email + 0.004*start + 0.004*apply + 0.004*work + 0.004*account + 0.004*cacao + 0.004*chocolate + 0.004*field + 0.004*application + 0.004*reset + 0.004*cancel + 0.003*new')]"
      ]
     },
     "execution_count": 29,
     "metadata": {},
     "output_type": "execute_result"
    }
   ],
   "source": [
    "lda.print_topics(num_words=20, num_topics=5)"
   ]
  },
  {
   "cell_type": "markdown",
   "metadata": {},
   "source": [
    "## TFIDF\n",
    "to include weights in words based on their frequency.\n",
    "\n",
    "this is directly proportional to term count within documents\n",
    "\n",
    "inverse proportional to term count over all docs"
   ]
  },
  {
   "cell_type": "code",
   "execution_count": 8,
   "metadata": {
    "collapsed": true
   },
   "outputs": [],
   "source": [
    "from sklearn.feature_extraction.text import TfidfVectorizer"
   ]
  },
  {
   "cell_type": "code",
   "execution_count": 11,
   "metadata": {
    "collapsed": false
   },
   "outputs": [],
   "source": [
    "# Create a CountVectorizer for parsing/counting words\n",
    "tfidf_vectorizer = TfidfVectorizer(analyzer='word',\n",
    "                                  ngram_range=(1,1), stop_words=stop_words,\n",
    "                                  token_pattern='\\\\b[a-z][a-z]+\\\\b')"
   ]
  },
  {
   "cell_type": "code",
   "execution_count": 12,
   "metadata": {
    "collapsed": false
   },
   "outputs": [
    {
     "data": {
      "text/plain": [
       "TfidfVectorizer(analyzer='word', binary=False, decode_error='strict',\n",
       "        dtype=<class 'numpy.int64'>, encoding='utf-8', input='content',\n",
       "        lowercase=True, max_df=1.0, max_features=None, min_df=1,\n",
       "        ngram_range=(1, 1), norm='l2', preprocessor=None, smooth_idf=True,\n",
       "        stop_words=['a', 'about', 'above', 'across', 'after', 'afterwards', 'again', 'against', 'all', 'almost', 'alone', 'along', 'already', 'also', 'although', 'always', 'am', 'among', 'amongst', 'amoungst', 'amount', 'an', 'and', 'another', 'any', 'anyhow', 'anyone', 'anything', 'anyway', 'anywhere', 'ar...yours', 'yourself', 'yourselves', 'data', 'scientist', 'new', 'york', 'science', 'job', 'work', 's'],\n",
       "        strip_accents=None, sublinear_tf=False,\n",
       "        token_pattern='\\\\b[a-z][a-z]+\\\\b', tokenizer=None, use_idf=True,\n",
       "        vocabulary=None)"
      ]
     },
     "execution_count": 12,
     "metadata": {},
     "output_type": "execute_result"
    }
   ],
   "source": [
    "tfidf_vectorizer.fit(desc)"
   ]
  },
  {
   "cell_type": "code",
   "execution_count": 13,
   "metadata": {
    "collapsed": false
   },
   "outputs": [
    {
     "data": {
      "text/plain": [
       "(18263, 6641)"
      ]
     },
     "execution_count": 13,
     "metadata": {},
     "output_type": "execute_result"
    }
   ],
   "source": [
    "ng_vecs = tfidf_vectorizer.transform(desc).transpose()\n",
    "ng_vecs.shape"
   ]
  },
  {
   "cell_type": "code",
   "execution_count": 14,
   "metadata": {
    "collapsed": true
   },
   "outputs": [],
   "source": [
    "# Convert sparse matrix of counts to a gensim corpus\n",
    "corpus = matutils.Sparse2Corpus(ng_vecs)"
   ]
  },
  {
   "cell_type": "code",
   "execution_count": 15,
   "metadata": {
    "collapsed": true
   },
   "outputs": [],
   "source": [
    "id2word = dict((v, k) for k, v in tfidf_vectorizer.vocabulary_.items())"
   ]
  },
  {
   "cell_type": "markdown",
   "metadata": {},
   "source": [
    "#### ------------------------------------------------------------"
   ]
  },
  {
   "cell_type": "code",
   "execution_count": 16,
   "metadata": {
    "collapsed": false
   },
   "outputs": [],
   "source": [
    "# Create a TFIDF transformer from our word counts (equivalent to \"fit\" in sklearn)\n",
    "tfidf = models.TfidfModel(corpus)"
   ]
  },
  {
   "cell_type": "code",
   "execution_count": 17,
   "metadata": {
    "collapsed": true
   },
   "outputs": [],
   "source": [
    "# Create a TFIDF vector for all documents from the original corpus (\"transform\" in sklearn)\n",
    "tfidf_corpus = tfidf[corpus]"
   ]
  },
  {
   "cell_type": "code",
   "execution_count": 71,
   "metadata": {
    "collapsed": false
   },
   "outputs": [],
   "source": [
    "from gensim.corpora.dictionary import Dictionary\n",
    "dictionary = Dictionary.from_corpus(tfidf_corpus,\n",
    "                                    id2word=dict((id, word) for word, id in tfidf_vectorizer.vocabulary_.items()))"
   ]
  },
  {
   "cell_type": "code",
   "execution_count": 104,
   "metadata": {
    "collapsed": false
   },
   "outputs": [],
   "source": [
    "# Build an LSI space from the input TFIDF matrix, mapping of row id to word, and num_topics\n",
    "# num_topics is the number of dimensions to reduce to after the SVD\n",
    "# Analagous to \"fit\" in sklearn, it primes an LSI space\n",
    "lsi = models.LsiModel(tfidf_corpus, id2word=dictionary, num_topics=300)"
   ]
  },
  {
   "cell_type": "code",
   "execution_count": 105,
   "metadata": {
    "collapsed": false
   },
   "outputs": [],
   "source": [
    "# Retrieve vectors for the original tfidf corpus in the LSI space (\"transform\" in sklearn)\n",
    "lsi_corpus = lsi[corpus]"
   ]
  },
  {
   "cell_type": "code",
   "execution_count": 67,
   "metadata": {
    "collapsed": true
   },
   "outputs": [],
   "source": [
    "# Dump the resulting document vectors into a list so we can take a look\n",
    "doc_vecs = [doc for doc in lsi_corpus]"
   ]
  },
  {
   "cell_type": "code",
   "execution_count": 68,
   "metadata": {
    "collapsed": false
   },
   "outputs": [
    {
     "name": "stderr",
     "output_type": "stream",
     "text": [
      "WARNING:gensim.similarities.docsim:scanning corpus to determine the number of features (consider setting `num_features` explicitly)\n"
     ]
    }
   ],
   "source": [
    "# Create an index transformer that calculates similarity based on our space\n",
    "index = similarities.MatrixSimilarity(doc_vecs)"
   ]
  },
  {
   "cell_type": "code",
   "execution_count": 69,
   "metadata": {
    "collapsed": false
   },
   "outputs": [
    {
     "data": {
      "text/plain": [
       "6641"
      ]
     },
     "execution_count": 69,
     "metadata": {},
     "output_type": "execute_result"
    }
   ],
   "source": [
    "len(index[doc_vecs[1]])"
   ]
  },
  {
   "cell_type": "code",
   "execution_count": 70,
   "metadata": {
    "collapsed": false
   },
   "outputs": [
    {
     "data": {
      "text/plain": [
       "[(1, 1.0),\n",
       " (20, 1.0),\n",
       " (409, 0.99999994),\n",
       " (413, 0.99999994),\n",
       " (769, 0.9999997),\n",
       " (427, 0.99999934),\n",
       " (697, 0.99999934),\n",
       " (597, 0.99999571),\n",
       " (2229, 0.99999571),\n",
       " (2270, 0.99999571),\n",
       " (2285, 0.99999571),\n",
       " (2349, 0.99999571),\n",
       " (2439, 0.99999571),\n",
       " (2446, 0.99999571),\n",
       " (2635, 0.99999571),\n",
       " (2714, 0.99999571),\n",
       " (2790, 0.99999571),\n",
       " (3077, 0.99999571),\n",
       " (3106, 0.99999571),\n",
       " (3165, 0.99999571)]"
      ]
     },
     "execution_count": 70,
     "metadata": {},
     "output_type": "execute_result"
    }
   ],
   "source": [
    "# Return the sorted list of cosine similarities to the first document\n",
    "sims = sorted(enumerate(index[doc_vecs[1]]), key=lambda item: -item[1])\n",
    "sims[:20]"
   ]
  },
  {
   "cell_type": "code",
   "execution_count": 28,
   "metadata": {
    "collapsed": true
   },
   "outputs": [],
   "source": [
    "from collections import Counter\n",
    "import pandas as pd"
   ]
  },
  {
   "cell_type": "code",
   "execution_count": 31,
   "metadata": {
    "collapsed": true
   },
   "outputs": [],
   "source": [
    "stop_words = [\"a\", \"about\", \"above\", \"across\", \"after\", \"afterwards\", \"again\", \"against\",\n",
    "    \"all\", \"almost\", \"alone\", \"along\", \"already\", \"also\", \"although\", \"always\",\n",
    "    \"am\", \"among\", \"amongst\", \"amoungst\", \"amount\", \"an\", \"and\", \"another\",\n",
    "    \"any\", \"anyhow\", \"anyone\", \"anything\", \"anyway\", \"anywhere\", \"are\",\n",
    "    \"around\", \"as\", \"at\", \"back\", \"be\", \"became\", \"because\", \"become\",\n",
    "    \"becomes\", \"becoming\", \"been\", \"before\", \"beforehand\", \"behind\", \"being\",\n",
    "    \"below\", \"beside\", \"besides\", \"between\", \"beyond\", \"bill\", \"both\",\n",
    "    \"bottom\", \"but\", \"by\", \"call\", \"can\", \"cannot\", \"cant\", \"co\", \"con\",\n",
    "    \"could\", \"couldnt\", \"cry\", \"de\", \"describe\", \"detail\", \"do\", \"done\",\n",
    "    \"down\", \"due\", \"during\", \"each\", \"eg\", \"eight\", \"either\", \"eleven\", \"else\",\n",
    "    \"elsewhere\", \"empty\", \"enough\", \"etc\", \"even\", \"ever\", \"every\", \"everyone\",\n",
    "    \"everything\", \"everywhere\", \"except\", \"few\", \"fifteen\", \"fifty\", \"fill\",\n",
    "    \"find\", \"fire\", \"first\", \"five\", \"for\", \"former\", \"formerly\", \"forty\",\n",
    "    \"found\", \"four\", \"from\", \"front\", \"full\", \"further\", \"get\", \"give\", \"go\",\n",
    "    \"had\", \"has\", \"hasnt\", \"have\", \"he\", \"hence\", \"her\", \"here\", \"hereafter\",\n",
    "    \"hereby\", \"herein\", \"hereupon\", \"hers\", \"herself\", \"him\", \"himself\", \"his\",\n",
    "    \"how\", \"however\", \"hundred\", \"i\", \"ie\", \"if\", \"in\", \"inc\", \"indeed\",\n",
    "    \"interest\", \"into\", \"is\", \"it\", \"its\", \"itself\", \"keep\", \"last\", \"latter\",\n",
    "    \"latterly\", \"least\", \"less\", \"ltd\", \"made\", \"many\", \"may\", \"me\",\n",
    "    \"meanwhile\", \"might\", \"mill\", \"mine\", \"more\", \"moreover\", \"most\", \"mostly\",\n",
    "    \"move\", \"much\", \"must\", \"my\", \"myself\", \"name\", \"namely\", \"neither\",\n",
    "    \"never\", \"nevertheless\", \"next\", \"nine\", \"no\", \"nobody\", \"none\", \"noone\",\n",
    "    \"nor\", \"not\", \"nothing\", \"now\", \"nowhere\", \"of\", \"off\", \"often\", \"on\",\n",
    "    \"once\", \"one\", \"only\", \"onto\", \"or\", \"other\", \"others\", \"otherwise\", \"our\",\n",
    "    \"ours\", \"ourselves\", \"out\", \"over\", \"own\", \"part\", \"per\", \"perhaps\",\n",
    "    \"please\", \"put\", \"rather\", \"re\", \"same\", \"see\", \"seem\", \"seemed\",\n",
    "    \"seeming\", \"seems\", \"serious\", \"several\", \"she\", \"should\", \"show\", \"side\",\n",
    "    \"since\", \"sincere\", \"six\", \"sixty\", \"so\", \"some\", \"somehow\", \"someone\",\n",
    "    \"something\", \"sometime\", \"sometimes\", \"somewhere\", \"still\", \"such\",\n",
    "    \"system\", \"take\", \"ten\", \"than\", \"that\", \"the\", \"their\", \"them\",\n",
    "    \"themselves\", \"then\", \"thence\", \"there\", \"thereafter\", \"thereby\",\n",
    "    \"therefore\", \"therein\", \"thereupon\", \"these\", \"they\", \"thick\", \"thin\",\n",
    "    \"third\", \"this\", \"those\", \"though\", \"three\", \"through\", \"throughout\",\n",
    "    \"thru\", \"thus\", \"to\", \"together\", \"too\", \"top\", \"toward\", \"towards\",\n",
    "    \"twelve\", \"twenty\", \"two\", \"un\", \"under\", \"until\", \"up\", \"upon\", \"us\",\n",
    "    \"very\", \"via\", \"was\", \"we\", \"well\", \"were\", \"what\", \"whatever\", \"when\",\n",
    "    \"whence\", \"whenever\", \"where\", \"whereafter\", \"whereas\", \"whereby\",\n",
    "    \"wherein\", \"whereupon\", \"wherever\", \"whether\", \"which\", \"while\", \"whither\",\n",
    "    \"who\", \"whoever\", \"whole\", \"whom\", \"whose\", \"why\", \"will\", \"with\",\n",
    "    \"within\", \"without\", \"would\", \"yet\", \"you\", \"your\", \"yours\", \"yourself\",\n",
    "    \"yourselves\", \"data\", \"scientist\", \"new\", \"york\", \"science\", \"job\", \"work\", \"s\", \"jobs\", \"000\"]"
   ]
  },
  {
   "cell_type": "code",
   "execution_count": 32,
   "metadata": {
    "collapsed": false
   },
   "outputs": [],
   "source": [
    "def word_frequency(job, stop_words):\n",
    "    freqs = {}\n",
    "    counts = Counter(job.split())\n",
    "    for k, v in counts.items():\n",
    "        if v > 2 and k not in stop_words:\n",
    "            freqs[k] = v/len(job.split())\n",
    "    print(freqs)\n",
    "    df = pd.DataFrame([freqs]).T\n",
    "    return df"
   ]
  },
  {
   "cell_type": "code",
   "execution_count": 33,
   "metadata": {
    "collapsed": false
   },
   "outputs": [
    {
     "name": "stdout",
     "output_type": "stream",
     "text": [
      "{'115': 0.003092783505154639, '646': 0.003092783505154639, 'predictive': 0.007216494845360825, '150': 0.003092783505154639, 'address': 0.004123711340206186, 'models': 0.003092783505154639, 'contact': 0.003092783505154639, 'startup': 0.003092783505154639, 'technology': 0.003092783505154639, 'techniques': 0.006185567010309278, 'team': 0.006185567010309278, 'role': 0.004123711340206186, 'office': 0.003092783505154639, 'recruiter': 0.003092783505154639, 'use': 0.003092783505154639, 'apply': 0.006185567010309278, 'decisions': 0.004123711340206186, 'relationships': 0.003092783505154639, 'build': 0.003092783505154639, 'blog': 0.004123711340206186, 'statistical': 0.003092783505154639, 'learning': 0.003092783505154639, 'follow': 0.004123711340206186, 'rapidly': 0.003092783505154639, 'experience': 0.005154639175257732, 'distinctive': 0.003092783505154639, 'analytics': 0.005154639175257732, 'modeling': 0.007216494845360825, 'ny': 0.006185567010309278, 'challenges': 0.003092783505154639, 'city': 0.003092783505154639, 'email': 0.005154639175257732, 'paul': 0.005154639175257732, 'pchatlos': 0.003092783505154639, 'smithhanley': 0.003092783505154639, 'pharmaceutical': 0.003092783505154639, 'com': 0.004123711340206186, 'skills': 0.004123711340206186, 'marketing': 0.008247422680412371, 'excellent': 0.003092783505154639, 'chatlos': 0.003092783505154639, 'hypotheses': 0.004123711340206186, 'transformation': 0.003092783505154639, 'risk': 0.004123711340206186, 'degree': 0.004123711340206186, 'search': 0.005154639175257732, 'growing': 0.003092783505154639, 'analytical': 0.004123711340206186, 'developing': 0.003092783505154639, 'insights': 0.007216494845360825, 'research': 0.004123711340206186, 'business': 0.007216494845360825}\n"
     ]
    }
   ],
   "source": [
    "df = word_frequency(' '.join([desc[44], desc[1]]), stop_words)"
   ]
  },
  {
   "cell_type": "code",
   "execution_count": 34,
   "metadata": {
    "collapsed": false
   },
   "outputs": [
    {
     "data": {
      "text/plain": [
       "<matplotlib.axes._subplots.AxesSubplot at 0x7fdd92a90dd8>"
      ]
     },
     "execution_count": 34,
     "metadata": {},
     "output_type": "execute_result"
    },
    {
     "data": {
      "image/png": "[encoded data removed]",
      "text/plain": [
       "<matplotlib.figure.Figure at 0x7fdd92a96f98>"
      ]
     },
     "metadata": {},
     "output_type": "display_data"
    }
   ],
   "source": [
    "%matplotlib inline\n",
    "\n",
    "df.sort_values(by = 0, ascending=False).plot(kind='bar', figsize=(15, 10))"
   ]
  },
  {
   "cell_type": "code",
   "execution_count": 144,
   "metadata": {
    "collapsed": false,
    "scrolled": true
   },
   "outputs": [
    {
     "data": {
      "text/plain": [
       "'data scientist for startup   averity view all jobs visit our website data scientist for startup averity   new york  ny we are a rapidly growing startup in the marketing tech world looking for a data scientist to join our newly created data science team  what s the job we can promise you that your work with us will never be boring  as a data scientist in our data science team  you will be using scientific techniques  such as machine learning  predictive modeling  and data mining to analyze user behavior  you will report your finding to management and ultimately  your work will impact our company s future success who are we we are a marketing tech start up based in new york city  we are backed by major venture firms and rapidly growing  with office across the country  our newly created data science team works out of our new york city office located in the flatiron area of manhattan compensation 100 000    135 000full benefitswhat skills do you needmachine learning techniquesknowledge of predictive modeling toolsprefer individuals with a masters and or phd in stem fieldwhat s in it for you this is a great chance for a go getter to make your mark as a leader in fun  rapidly growing technology firm  your work will help make real decisions that will immediately impact our company s future  posted on  friday  may 20  2016 compensation   100 000    135 000 tagged  data science position contact alison herlands data team talent advocate  646  766 9575 new york  ny alison herlands averityteam com 646  766 9575 apply to this job phone email or submitting new york  ny  646 926 0792  info averityteam com powe red by crelate talent'"
      ]
     },
     "execution_count": 144,
     "metadata": {},
     "output_type": "execute_result"
    }
   ],
   "source": [
    "desc[1]"
   ]
  },
  {
   "cell_type": "code",
   "execution_count": 42,
   "metadata": {
    "collapsed": false,
    "scrolled": true
   },
   "outputs": [
    {
     "data": {
      "text/plain": [
       "'careers   huawei global  change  us jobs canada jobs global jobs sdn   machine learning intern location  santa clara  ca  r d  req    6501   of openings  1 the opportunity  as a company  we are committed to creating maximum value for telecom operators  enterprises and consumers by providing competitive solutions and services  our products and solutions have been deployed in over 140 countries  serving more than one third of the worlds population  huawei s vision is to enrich life through communication  description sdn   machine learning intern futurewei technologies   huawei usa is starting a new business group focused on enterprise solutions  futurewei technologies is looking for exceptional people with solid and demonstrated expertise in various areas to help create and execute our technical creations and innovations that will ensure our company in a leadership role in this very important opportunity space  this is an incredible opportunity to enable you to contribute to shape the strategy and focus of a multi million dollar business  we are looking for an internin santa clara  ca location  job duties   research and analysis of ml algorithms for network use cases  development and test sdn and machine learning poc  assist in project planning and collaboration in both sdn and machine learning qualifications  senior year of ms in computer science   mathematics   statistics a must  phd candidate a plus   knowledge of sdn and machine learning  programming   team player with strong communication skills  self starter why work for us  our contract sales reached  46 5 billion usd in 2014  a year on year increase of 20 6   we invest in engineering and innovation   70 000+ of our 150 000 global employees work in r d  globally ranked  1 for international patent submissions  we continually invest heavily in global community involvement programs  we support green energy   lowe red co2 emissions by 13 000 tons via huaweis green packaging solutions we are a member of 130 standard bodies  engaged in over 100 research projects with 50+ universities in the united states are you a returning applicant  previous applicants  email  password  if you do not remember your password click here  back to search results new search site mapcontact uslegalhuawei rss copyright  huawei technologies co   ltd  1998 2011  all rights reserved '"
      ]
     },
     "execution_count": 42,
     "metadata": {},
     "output_type": "execute_result"
    }
   ],
   "source": [
    "desc[692]"
   ]
  },
  {
   "cell_type": "code",
   "execution_count": null,
   "metadata": {
    "collapsed": true
   },
   "outputs": [],
   "source": [
    "## text_blobs = ' '.join([desc[1], desc[229], desc[10], desc[534]])"
   ]
  },
  {
   "cell_type": "code",
   "execution_count": 106,
   "metadata": {
    "collapsed": false
   },
   "outputs": [
    {
     "data": {
      "text/plain": [
       "10480"
      ]
     },
     "execution_count": 106,
     "metadata": {},
     "output_type": "execute_result"
    }
   ],
   "source": [
    "len(text_blobs)"
   ]
  },
  {
   "cell_type": "code",
   "execution_count": 108,
   "metadata": {
    "collapsed": false,
    "scrolled": true
   },
   "outputs": [
    {
     "name": "stdout",
     "output_type": "stream",
     "text": [
      "0 http://www.indeed.com/rc/clk?jk=3a736307116dd50a&fccid=d724b507863bb5b1\n",
      "1 http://www.indeed.com/rc/clk?jk=82385b59d57c2166&fccid=39407476605079e0\n",
      "2 http://www.indeed.com/rc/clk?jk=ca5a2c136eaccc1d&fccid=181ae1a6390e21b5\n",
      "3 http://www.indeed.com/rc/clk?jk=4121a8a5ec79dbfc&fccid=f65aedcd2de292bf\n",
      "4 http://www.indeed.com/rc/clk?jk=cde086027099b03b&fccid=4e9c4ad9d973d979\n",
      "5 http://www.indeed.com/rc/clk?jk=ba072e94de1a5dba&fccid=e127f4594cdf24f4\n",
      "6 http://www.indeed.com/rc/clk?jk=762dcebab0a10de3&fccid=61bb2b2cdd4507ae\n",
      "7 http://www.indeed.com/rc/clk?jk=38761288da163e7f&fccid=ad9a355de43f962a\n",
      "8 http://www.indeed.com/rc/clk?jk=1be48ee4132670bf&fccid=be3b11aa573faee7\n",
      "9 http://www.indeed.com/rc/clk?jk=c9961fe7f2f0bdcc&fccid=b445cea762cc7d0d\n",
      "10 http://www.indeed.com/rc/clk?jk=ad9f0dbd2739c2d8&fccid=e032d49a262c01c8\n",
      "11 http://www.indeed.com/rc/clk?jk=251ce788e98a5403&fccid=9b4cf72eb101bebf\n",
      "12 http://www.indeed.com/rc/clk?jk=eba548b4f6efc67b&fccid=c9760fb6d1cce259\n",
      "13 http://www.indeed.com/rc/clk?jk=a80662ae66e4e4fc&fccid=beed1e8c185c6c2f\n",
      "14 http://www.indeed.com/rc/clk?jk=379d4a3d2f374529&fccid=1639254ea84748b5\n",
      "15 http://www.indeed.com/rc/clk?jk=94949fde6b5c4b55&fccid=4a2d2fbadf14d480\n",
      "16 http://www.indeed.com/rc/clk?jk=1be48ee4132670bf&fccid=be3b11aa573faee7\n",
      "17 http://www.indeed.com/rc/clk?jk=7e66e71d84818038&fccid=f766f8bfbc3effb7\n",
      "18 http://www.indeed.com/rc/clk?jk=99d07f6b9af7d8aa&fccid=6f31e2074a3d8a7b\n",
      "19 http://www.indeed.com/rc/clk?jk=c3149730b51f633d&fccid=6a72b8030d1f6cdf\n",
      "20 http://www.indeed.com/rc/clk?jk=afd80d6c05270b74&fccid=ad3813e46e9342cd\n",
      "21 http://www.indeed.com/rc/clk?jk=f381c3ea660e8023&fccid=812e26d5d0583fc4\n",
      "22 http://www.indeed.com/rc/clk?jk=535883d1bae75d31&fccid=d0a1714dfe823da3\n",
      "23 http://www.indeed.com/rc/clk?jk=659bcec0e693f252&fccid=a6c1a16efff8b81c\n",
      "24 http://www.indeed.com/rc/clk?jk=acae727c0efe6e81&fccid=734cb5a01ee60f80\n",
      "25 http://www.indeed.com/rc/clk?jk=e7c2c80c3f96b2fd&fccid=9e6259fbc9430e03\n",
      "26 http://www.indeed.com/rc/clk?jk=a1d41cfc04edecfe&fccid=16a97ed26c75bf2d\n",
      "27 http://www.indeed.com/rc/clk?jk=10e857fd062eb24a&fccid=2e5b91edebf8c5ab\n",
      "28 http://www.indeed.com/rc/clk?jk=4cd74e25fecc9222&fccid=65495c3aac7d0482\n",
      "29 http://www.indeed.com/rc/clk?jk=6a0cb67e1452cfe2&fccid=f6ce40c91e89f80b\n",
      "30 http://www.indeed.com/rc/clk?jk=e1d010df599e8252&fccid=f69fe5673875c177\n",
      "31 http://www.indeed.com/rc/clk?jk=6a0cb67e1452cfe2&fccid=f6ce40c91e89f80b\n",
      "32 http://www.indeed.com/rc/clk?jk=a74bfb60b5259005&fccid=3e901f592b439cea\n",
      "33 http://www.indeed.com/rc/clk?jk=3a19ca05a5944ddc&fccid=00a893849bc08e96\n",
      "34 http://www.indeed.com/rc/clk?jk=d905d2c232c71c3d&fccid=e7c794a29c21ba04\n",
      "35 http://www.indeed.com/rc/clk?jk=6f51159080f8efdd&fccid=8b38329d8b6e8031\n",
      "36 http://www.indeed.com/rc/clk?jk=fa65b0abd7e8b3e8&fccid=4e041af1d0af1bc8\n",
      "37 http://www.indeed.com/rc/clk?jk=def724a72d03a5c1&fccid=6eef86842cab8b5a\n",
      "38 http://www.indeed.com/rc/clk?jk=3351eed940ae0001&fccid=f511d6a4d4b04eb0\n",
      "39 http://www.indeed.com/rc/clk?jk=c686e73ab1135a12&fccid=2bad6bdb99f4bd48\n",
      "40 http://www.indeed.com/rc/clk?jk=a1294271618898fd&fccid=4144c0c6235e4037\n",
      "41 http://www.indeed.com/rc/clk?jk=f2d235798bbffc9f&fccid=eccc1e6c4007ba56\n",
      "42 http://www.indeed.com/rc/clk?jk=6a283077307cd3ad&fccid=2dd390c3a48a7ed0\n",
      "43 http://www.indeed.com/rc/clk?jk=8b96df1be981ef09&fccid=144246527fe40973\n",
      "44 http://www.indeed.com/rc/clk?jk=1b0dcc6946aa6076&fccid=867d82af62a0e5c1\n",
      "45 http://www.indeed.com/rc/clk?jk=0b79f3cff67d17d3&fccid=2d104506a6d92030\n",
      "46 http://www.indeed.com/rc/clk?jk=bf95393901576b63&fccid=e2197a3a7520b610\n",
      "47 http://www.indeed.com/rc/clk?jk=efe581b434c1744e&fccid=2df6a1e69a70a1e7\n",
      "48 http://www.indeed.com/rc/clk?jk=7f2f673a2aac7146&fccid=94a21bc552c12dde\n",
      "49 http://www.indeed.com/rc/clk?jk=efe581b434c1744e&fccid=2df6a1e69a70a1e7\n",
      "50 http://www.indeed.com/rc/clk?jk=91da4b82bdc384ab&fccid=21df030fae150acc\n"
     ]
    }
   ],
   "source": [
    "count = 0\n",
    "for j in coll.find():\n",
    "    print(count, j['url'])\n",
    "    count += 1\n",
    "    if count > 50:\n",
    "        break"
   ]
  },
  {
   "cell_type": "code",
   "execution_count": 99,
   "metadata": {
    "collapsed": true
   },
   "outputs": [],
   "source": [
    "import webarticle2text"
   ]
  },
  {
   "cell_type": "code",
   "execution_count": 219,
   "metadata": {
    "collapsed": false
   },
   "outputs": [
    {
     "data": {
      "text/plain": [
       "910"
      ]
     },
     "execution_count": 219,
     "metadata": {},
     "output_type": "execute_result"
    }
   ],
   "source": [
    "len(new_list)"
   ]
  },
  {
   "cell_type": "code",
   "execution_count": 213,
   "metadata": {
    "collapsed": false
   },
   "outputs": [],
   "source": [
    "# Create some test text blobs to compare pairwise\n",
    "#text_blobs = ['startup']\n",
    "# Get matrix of counts\n",
    "test_vecs = tfidf_vectorizer.transform(text_blobs).transpose()\n",
    "# Convert to gensim corpus\n",
    "test_corpus = matutils.Sparse2Corpus(test_vecs)\n",
    "# TFIDF transformation\n",
    "test_tfidf = tfidf[test_corpus]\n",
    "# LSI transformation\n",
    "test_lsi = lsi[test_tfidf]"
   ]
  },
  {
   "cell_type": "code",
   "execution_count": 214,
   "metadata": {
    "collapsed": false
   },
   "outputs": [
    {
     "name": "stderr",
     "output_type": "stream",
     "text": [
      "WARNING:gensim.similarities.docsim:scanning corpus to determine the number of features (consider setting `num_features` explicitly)\n"
     ]
    }
   ],
   "source": [
    "# Index our test text blobs\n",
    "test_index = similarities.MatrixSimilarity(test_lsi)"
   ]
  },
  {
   "cell_type": "code",
   "execution_count": 215,
   "metadata": {
    "collapsed": false
   },
   "outputs": [
    {
     "data": {
      "text/plain": [
       "'data scientist   well funded startup job in new york  ny   jobspring p'"
      ]
     },
     "execution_count": 215,
     "metadata": {},
     "output_type": "execute_result"
    }
   ],
   "source": [
    "text_blobs[1][:70]"
   ]
  },
  {
   "cell_type": "code",
   "execution_count": 216,
   "metadata": {
    "collapsed": false
   },
   "outputs": [
    {
     "name": "stdout",
     "output_type": "stream",
     "text": [
      "Similarities to data scientist for startup   averity view all jobs visit our website d:\n",
      "[(0.99999976, 'data scientist for startup   averity view all jobs visit our website d'), (0.794743, 'senior data scientist  client facing    averity view all jobs visit ou'), (0.18097329, 'bluecore   jobs  data scientist   apply online all jobs  data scientis'), (0.082620971, 'data scientist   well funded startup job in new york  ny   jobspring p')]\n",
      "\n",
      "\n",
      "Similarities to data scientist   well funded startup job in new york  ny   jobspring p:\n",
      "[(0.99999958, 'data scientist   well funded startup job in new york  ny   jobspring p'), (0.082620971, 'data scientist for startup   averity view all jobs visit our website d'), (0.056406535, 'senior data scientist  client facing    averity view all jobs visit ou'), (-0.016373284, 'bluecore   jobs  data scientist   apply online all jobs  data scientis')]\n",
      "\n",
      "\n",
      "Similarities to bluecore   jobs  data scientist   apply online all jobs  data scientis:\n",
      "[(1.0, 'bluecore   jobs  data scientist   apply online all jobs  data scientis'), (0.18097329, 'data scientist for startup   averity view all jobs visit our website d'), (0.12902752, 'senior data scientist  client facing    averity view all jobs visit ou'), (-0.016373284, 'data scientist   well funded startup job in new york  ny   jobspring p')]\n",
      "\n",
      "\n",
      "Similarities to senior data scientist  client facing    averity view all jobs visit ou:\n",
      "[(0.99999982, 'senior data scientist  client facing    averity view all jobs visit ou'), (0.794743, 'data scientist for startup   averity view all jobs visit our website d'), (0.12902752, 'bluecore   jobs  data scientist   apply online all jobs  data scientis'), (0.056406535, 'data scientist   well funded startup job in new york  ny   jobspring p')]\n",
      "\n",
      "\n"
     ]
    }
   ],
   "source": [
    "# For each test text blob that we're looking at\n",
    "for i, sims in enumerate(test_index):\n",
    "    # We get a list of similarities to all indexed text blobs\n",
    "    # Print the text blob we're currently examining\n",
    "    print (\"Similarities to {}:\".format(text_blobs[i][:70]))\n",
    "    # Print the similarities of the current blob to all others with labels\n",
    "    sims_with_labels = [(score, text_blobs[j][:70]) for j, score in enumerate(sims)]\n",
    "    # Sort the results by decreasing similarity and print them out\n",
    "    sorted_sims_with_labels = sorted(sims_with_labels, reverse=True)\n",
    "    print (sorted_sims_with_labels)\n",
    "    print ('\\n')"
   ]
  },
  {
   "cell_type": "code",
   "execution_count": 59,
   "metadata": {
    "collapsed": false
   },
   "outputs": [],
   "source": [
    "import logging\n",
    "import os\n",
    "import gensim\n",
    "\n",
    "MODELS_DIR = \"./\"\n",
    "# write out coordinates to file\n",
    "fcoords = open(os.path.join(MODELS_DIR, \"coords.csv\"), 'w')\n",
    "for vector in lsi[corpus]:\n",
    "    if len(vector) != 2:\n",
    "        continue\n",
    "    fcoords.write(\"%6.4f\\t%6.4f\\n\" % (vector[0][1], vector[1][1]))\n",
    "fcoords.close()"
   ]
  },
  {
   "cell_type": "code",
   "execution_count": 60,
   "metadata": {
    "collapsed": false
   },
   "outputs": [
    {
     "data": {
      "image/png": "[encoded data removed]",
      "text/plain": [
       "<matplotlib.figure.Figure at 0x7fdda67f60f0>"
      ]
     },
     "metadata": {},
     "output_type": "display_data"
    }
   ],
   "source": [
    "import os\n",
    "import numpy as np\n",
    "import matplotlib.pyplot as plt\n",
    "from sklearn.cluster import KMeans\n",
    "\n",
    "MODELS_DIR = \"./\"\n",
    "MAX_K = 10\n",
    "\n",
    "X = np.loadtxt(os.path.join(MODELS_DIR, \"coords.csv\"), delimiter=\"\\t\")\n",
    "ks = range(1, MAX_K + 1)\n",
    "\n",
    "inertias = np.zeros(MAX_K)\n",
    "diff = np.zeros(MAX_K)\n",
    "diff2 = np.zeros(MAX_K)\n",
    "diff3 = np.zeros(MAX_K)\n",
    "for k in ks:\n",
    "    kmeans = KMeans(k).fit(X)\n",
    "    inertias[k - 1] = kmeans.inertia_\n",
    "    # first difference    \n",
    "    if k > 1:\n",
    "        diff[k - 1] = inertias[k - 1] - inertias[k - 2]\n",
    "    # second difference\n",
    "    if k > 2:\n",
    "        diff2[k - 1] = diff[k - 1] - diff[k - 2]\n",
    "    # third difference\n",
    "    if k > 3:\n",
    "        diff3[k - 1] = diff2[k - 1] - diff2[k - 2]\n",
    "\n",
    "elbow = np.argmin(diff3[3:]) + 3\n",
    "\n",
    "plt.plot(ks, inertias, \"b*-\")\n",
    "plt.plot(ks[elbow], inertias[elbow], marker='o', markersize=12,\n",
    "         markeredgewidth=2, markeredgecolor='r', markerfacecolor=None)\n",
    "plt.ylabel(\"Inertia\")\n",
    "plt.xlabel(\"K\")\n",
    "plt.show()"
   ]
  },
  {
   "cell_type": "code",
   "execution_count": 61,
   "metadata": {
    "collapsed": false
   },
   "outputs": [
    {
     "data": {
      "image/png": "[encoded data removed]",
      "text/plain": [
       "<matplotlib.figure.Figure at 0x7fdd97c51048>"
      ]
     },
     "metadata": {},
     "output_type": "display_data"
    }
   ],
   "source": [
    "import os\n",
    "import numpy as np\n",
    "import matplotlib.pyplot as plt\n",
    "from sklearn.cluster import KMeans\n",
    "\n",
    "MODELS_DIR = \"./\"\n",
    "NUM_TOPICS = 4\n",
    "\n",
    "X = np.loadtxt(os.path.join(MODELS_DIR, \"coords.csv\"), delimiter=\"\\t\")\n",
    "kmeans = KMeans(NUM_TOPICS).fit(X)\n",
    "y = kmeans.labels_\n",
    "\n",
    "colors = [\"b\", \"g\", \"r\", \"m\", \"c\"]\n",
    "for i in range(X.shape[0]):\n",
    "    plt.scatter(X[i][0], X[i][1], c=colors[y[i]], s=10, )    \n",
    "plt.show()"
   ]
  },
  {
   "cell_type": "code",
   "execution_count": 72,
   "metadata": {
    "collapsed": false
   },
   "outputs": [
    {
     "data": {
      "text/plain": [
       "[(0,\n",
       "  '0.013*mars + 0.008*password + 0.004*chocolate + 0.004*cacao + 0.004*accounts + 0.003*enter + 0.003*functionality + 0.003*dod + 0.003*start + 0.002*reset'),\n",
       " (1,\n",
       "  '0.014*loading + 0.011*ihs + 0.010*glassdoor + 0.009*linguist + 0.006*splunk + 0.006*earnest + 0.005*password + 0.004*language + 0.004*wait + 0.004*linguistics'),\n",
       " (2,\n",
       "  '0.012*roche + 0.009*self + 0.008*sequencing + 0.006*caesars + 0.006*peoplesoft + 0.006*hart + 0.005*santa + 0.005*oracle + 0.004*alto + 0.004*palo'),\n",
       " (3,\n",
       "  '0.012*memorial + 0.011*michigan + 0.009*cardiovascular + 0.006*arbor + 0.006*ann + 0.005*investigator + 0.005*charts + 0.005*temporary + 0.004*university + 0.004*atherosclerosis')]"
      ]
     },
     "execution_count": 72,
     "metadata": {},
     "output_type": "execute_result"
    }
   ],
   "source": [
    "# Create lda model (equivalent to \"fit\" in sklearn)\n",
    "lda = models.LdaModel(tfidf_corpus, id2word=dictionary, num_topics=4, passes=10)\n",
    "lda.print_topics(4)"
   ]
  },
  {
   "cell_type": "code",
   "execution_count": 97,
   "metadata": {
    "collapsed": false
   },
   "outputs": [
    {
     "name": "stdout",
     "output_type": "stream",
     "text": [
      "0.013*mars + 0.008*password + 0.004*chocolate + 0.004*cacao + 0.004*accounts + 0.003*enter + 0.003*functionality + 0.003*dod + 0.003*start + 0.002*reset\n",
      "0.014*loading + 0.011*ihs + 0.010*glassdoor + 0.009*linguist + 0.006*splunk + 0.006*earnest + 0.005*password + 0.004*language + 0.004*wait + 0.004*linguistics\n",
      "0.012*roche + 0.009*self + 0.008*sequencing + 0.006*caesars + 0.006*peoplesoft + 0.006*hart + 0.005*santa + 0.005*oracle + 0.004*alto + 0.004*palo\n",
      "0.012*memorial + 0.011*michigan + 0.009*cardiovascular + 0.006*arbor + 0.006*ann + 0.005*investigator + 0.005*charts + 0.005*temporary + 0.004*university + 0.004*atherosclerosis\n"
     ]
    }
   ],
   "source": [
    "\n",
    "for line in lda.print_topics(4):\n",
    "    print(line[1])"
   ]
  },
  {
   "cell_type": "code",
   "execution_count": 102,
   "metadata": {
    "collapsed": false
   },
   "outputs": [
    {
     "data": {
      "text/plain": [
       "['mars',\n",
       " 'password',\n",
       " 'chocolate',\n",
       " 'cacao',\n",
       " 'accounts',\n",
       " 'enter',\n",
       " 'functionality',\n",
       " 'dod',\n",
       " 'start',\n",
       " 'reset']"
      ]
     },
     "execution_count": 102,
     "metadata": {},
     "output_type": "execute_result"
    }
   ],
   "source": [
    "words"
   ]
  },
  {
   "cell_type": "code",
   "execution_count": 107,
   "metadata": {
    "collapsed": false
   },
   "outputs": [
    {
     "ename": "TypeError",
     "evalue": "'int' object is not subscriptable",
     "output_type": "error",
     "traceback": [
      "\u001b[1;31m---------------------------------------------------------------------------\u001b[0m",
      "\u001b[1;31mTypeError\u001b[0m                                 Traceback (most recent call last)",
      "\u001b[1;32m<ipython-input-107-cc7a6e52adcc>\u001b[0m in \u001b[0;36m<module>\u001b[1;34m()\u001b[0m\n\u001b[0;32m      2\u001b[0m \u001b[0mcurr_topic\u001b[0m \u001b[1;33m=\u001b[0m \u001b[1;36m0\u001b[0m\u001b[1;33m\u001b[0m\u001b[0m\n\u001b[0;32m      3\u001b[0m \u001b[1;32mfor\u001b[0m \u001b[0mline\u001b[0m \u001b[1;32min\u001b[0m \u001b[0mlda\u001b[0m\u001b[1;33m.\u001b[0m\u001b[0mprint_topics\u001b[0m\u001b[1;33m(\u001b[0m\u001b[1;36m4\u001b[0m\u001b[1;33m)\u001b[0m\u001b[1;33m[\u001b[0m\u001b[1;36m1\u001b[0m\u001b[1;33m]\u001b[0m\u001b[1;33m:\u001b[0m\u001b[1;33m\u001b[0m\u001b[0m\n\u001b[1;32m----> 4\u001b[1;33m     \u001b[0mline\u001b[0m \u001b[1;33m=\u001b[0m \u001b[0mline\u001b[0m\u001b[1;33m[\u001b[0m\u001b[1;36m1\u001b[0m\u001b[1;33m]\u001b[0m\u001b[1;33m.\u001b[0m\u001b[0mstrip\u001b[0m\u001b[1;33m(\u001b[0m\u001b[1;33m)\u001b[0m\u001b[1;33m\u001b[0m\u001b[0m\n\u001b[0m\u001b[0;32m      5\u001b[0m     \u001b[0mscores\u001b[0m \u001b[1;33m=\u001b[0m \u001b[1;33m[\u001b[0m\u001b[0mfloat\u001b[0m\u001b[1;33m(\u001b[0m\u001b[0mx\u001b[0m\u001b[1;33m.\u001b[0m\u001b[0msplit\u001b[0m\u001b[1;33m(\u001b[0m\u001b[1;34m\"*\"\u001b[0m\u001b[1;33m)\u001b[0m\u001b[1;33m[\u001b[0m\u001b[1;36m0\u001b[0m\u001b[1;33m]\u001b[0m\u001b[1;33m)\u001b[0m \u001b[1;32mfor\u001b[0m \u001b[0mx\u001b[0m \u001b[1;32min\u001b[0m \u001b[0mline\u001b[0m\u001b[1;33m.\u001b[0m\u001b[0msplit\u001b[0m\u001b[1;33m(\u001b[0m\u001b[1;34m\" + \"\u001b[0m\u001b[1;33m)\u001b[0m\u001b[1;33m]\u001b[0m\u001b[1;33m\u001b[0m\u001b[0m\n\u001b[0;32m      6\u001b[0m     \u001b[0mwords\u001b[0m \u001b[1;33m=\u001b[0m \u001b[1;33m[\u001b[0m\u001b[0mx\u001b[0m\u001b[1;33m.\u001b[0m\u001b[0msplit\u001b[0m\u001b[1;33m(\u001b[0m\u001b[1;34m\"*\"\u001b[0m\u001b[1;33m)\u001b[0m\u001b[1;33m[\u001b[0m\u001b[1;36m1\u001b[0m\u001b[1;33m]\u001b[0m \u001b[1;32mfor\u001b[0m \u001b[0mx\u001b[0m \u001b[1;32min\u001b[0m \u001b[0mline\u001b[0m\u001b[1;33m.\u001b[0m\u001b[0msplit\u001b[0m\u001b[1;33m(\u001b[0m\u001b[1;34m\" + \"\u001b[0m\u001b[1;33m)\u001b[0m\u001b[1;33m]\u001b[0m\u001b[1;33m\u001b[0m\u001b[0m\n",
      "\u001b[1;31mTypeError\u001b[0m: 'int' object is not subscriptable"
     ]
    }
   ],
   "source": [
    "import wordcloud\n",
    "curr_topic = 0\n",
    "for line in lda.print_topics(4):\n",
    "    line = line[1].strip()\n",
    "    scores = [float(x.split(\"*\")[0]) for x in line.split(\" + \")]\n",
    "    words = [x.split(\"*\")[1] for x in line.split(\" + \")]\n",
    "    freqs = []\n",
    "    for word, score in zip(words, scores):\n",
    "        freqs.append((word, score))\n",
    "    elements = wordcloud.fit_words(freqs, width=120, height=120)\n",
    "    wordcloud.draw(elements, \"gs_topic_%d.png\" % (curr_topic),\n",
    "                   width=120, height=120)\n",
    "    curr_topic += 1\n",
    "final_topics.close()"
   ]
  },
  {
   "cell_type": "code",
   "execution_count": null,
   "metadata": {
    "collapsed": true
   },
   "outputs": [],
   "source": []
  }
 ],
 "metadata": {
  "kernelspec": {
   "display_name": "Python 3",
   "language": "python",
   "name": "python3"
  },
  "language_info": {
   "codemirror_mode": {
    "name": "ipython",
    "version": 3
   },
   "file_extension": ".py",
   "mimetype": "text/x-python",
   "name": "python",
   "nbconvert_exporter": "python",
   "pygments_lexer": "ipython3",
   "version": "3.5.1"
  }
 },
 "nbformat": 4,
 "nbformat_minor": 0
}
